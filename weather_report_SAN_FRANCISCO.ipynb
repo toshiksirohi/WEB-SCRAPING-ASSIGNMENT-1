{
 "cells": [
  {
   "cell_type": "code",
   "execution_count": 8,
   "metadata": {},
   "outputs": [],
   "source": [
    "from bs4 import BeautifulSoup\n",
    "import requests"
   ]
  },
  {
   "cell_type": "code",
   "execution_count": 9,
   "metadata": {},
   "outputs": [],
   "source": [
    "Period=[]\n",
    "short_description=[]\n",
    "temperature=[]\n",
    "Description=[]"
   ]
  },
  {
   "cell_type": "code",
   "execution_count": 10,
   "metadata": {},
   "outputs": [],
   "source": [
    "def page(a):\n",
    "    r=requests.get(a)\n",
    "    soup=BeautifulSoup(r.content,'html.parser')\n",
    "\n",
    "    period_name = soup.find_all('div',class_=\"col-sm-2 forecast-label\")\n",
    "    period_name=period_name[:7]\n",
    "    for i in period_name:\n",
    "        Period.append(i.get_text())\n",
    "        \n",
    "    sd=soup.find_all('p',class_='short-desc')\n",
    "    sd=sd[:7]\n",
    "    for i in sd:\n",
    "        short_description.append(i.get_text())\n",
    "        \n",
    "    temp=soup.find_all('p',class_='temp')\n",
    "    temp=temp[:7]\n",
    "    for i in temp:\n",
    "        temperature.append(i.get_text())\n",
    "    description=soup.find_all('div',class_='col-sm-10 forecast-text')\n",
    "    description=description[:7]\n",
    "    for i in description:\n",
    "        Description.append(i.get_text())"
   ]
  },
  {
   "cell_type": "code",
   "execution_count": 11,
   "metadata": {},
   "outputs": [],
   "source": [
    "page('https://forecast.weather.gov/MapClick.php?lat=37.777120000000025&lon=-122.41963999999996#.YCD_f4-A63I')"
   ]
  },
  {
   "cell_type": "code",
   "execution_count": 12,
   "metadata": {},
   "outputs": [],
   "source": [
    "import pandas as pd\n",
    "report = pd.DataFrame({})\n",
    "report['Period'] = Period\n",
    "report['short_description'] = short_description\n",
    "report['temperature'] = temperature\n",
    "report['Description'] = Description[:9]"
   ]
  },
  {
   "cell_type": "code",
   "execution_count": 13,
   "metadata": {},
   "outputs": [
    {
     "name": "stdout",
     "output_type": "stream",
     "text": [
      "7 7 7\n"
     ]
    }
   ],
   "source": [
    "print(len(Period),len(short_description),len(temperature))"
   ]
  },
  {
   "cell_type": "code",
   "execution_count": 14,
   "metadata": {},
   "outputs": [
    {
     "data": {
      "text/html": [
       "<div>\n",
       "<style scoped>\n",
       "    .dataframe tbody tr th:only-of-type {\n",
       "        vertical-align: middle;\n",
       "    }\n",
       "\n",
       "    .dataframe tbody tr th {\n",
       "        vertical-align: top;\n",
       "    }\n",
       "\n",
       "    .dataframe thead th {\n",
       "        text-align: right;\n",
       "    }\n",
       "</style>\n",
       "<table border=\"1\" class=\"dataframe\">\n",
       "  <thead>\n",
       "    <tr style=\"text-align: right;\">\n",
       "      <th></th>\n",
       "      <th>Period</th>\n",
       "      <th>short_description</th>\n",
       "      <th>temperature</th>\n",
       "      <th>Description</th>\n",
       "    </tr>\n",
       "  </thead>\n",
       "  <tbody>\n",
       "    <tr>\n",
       "      <th>0</th>\n",
       "      <td>Today</td>\n",
       "      <td>Mostly Cloudy</td>\n",
       "      <td>High: 58 °F</td>\n",
       "      <td>Mostly cloudy, with a high near 58. Calm wind ...</td>\n",
       "    </tr>\n",
       "    <tr>\n",
       "      <th>1</th>\n",
       "      <td>Tonight</td>\n",
       "      <td>Mostly Cloudy</td>\n",
       "      <td>Low: 48 °F</td>\n",
       "      <td>Mostly cloudy, with a low around 48. West wind...</td>\n",
       "    </tr>\n",
       "    <tr>\n",
       "      <th>2</th>\n",
       "      <td>Tuesday</td>\n",
       "      <td>Mostly Cloudy</td>\n",
       "      <td>High: 58 °F</td>\n",
       "      <td>Mostly cloudy, with a high near 58. West wind ...</td>\n",
       "    </tr>\n",
       "    <tr>\n",
       "      <th>3</th>\n",
       "      <td>Tuesday Night</td>\n",
       "      <td>Mostly Cloudy</td>\n",
       "      <td>Low: 47 °F</td>\n",
       "      <td>Mostly cloudy, with a low around 47. West wind...</td>\n",
       "    </tr>\n",
       "    <tr>\n",
       "      <th>4</th>\n",
       "      <td>Wednesday</td>\n",
       "      <td>Sunny</td>\n",
       "      <td>High: 60 °F</td>\n",
       "      <td>Sunny, with a high near 60. Calm wind becoming...</td>\n",
       "    </tr>\n",
       "    <tr>\n",
       "      <th>5</th>\n",
       "      <td>Wednesday Night</td>\n",
       "      <td>Partly Cloudy</td>\n",
       "      <td>Low: 48 °F</td>\n",
       "      <td>Partly cloudy, with a low around 48.</td>\n",
       "    </tr>\n",
       "    <tr>\n",
       "      <th>6</th>\n",
       "      <td>Thursday</td>\n",
       "      <td>Rain Likely</td>\n",
       "      <td>High: 59 °F</td>\n",
       "      <td>Rain likely, mainly after 4pm.  Mostly cloudy,...</td>\n",
       "    </tr>\n",
       "  </tbody>\n",
       "</table>\n",
       "</div>"
      ],
      "text/plain": [
       "            Period short_description  temperature  \\\n",
       "0            Today     Mostly Cloudy  High: 58 °F   \n",
       "1          Tonight     Mostly Cloudy   Low: 48 °F   \n",
       "2          Tuesday     Mostly Cloudy  High: 58 °F   \n",
       "3    Tuesday Night     Mostly Cloudy   Low: 47 °F   \n",
       "4        Wednesday             Sunny  High: 60 °F   \n",
       "5  Wednesday Night     Partly Cloudy   Low: 48 °F   \n",
       "6         Thursday       Rain Likely  High: 59 °F   \n",
       "\n",
       "                                         Description  \n",
       "0  Mostly cloudy, with a high near 58. Calm wind ...  \n",
       "1  Mostly cloudy, with a low around 48. West wind...  \n",
       "2  Mostly cloudy, with a high near 58. West wind ...  \n",
       "3  Mostly cloudy, with a low around 47. West wind...  \n",
       "4  Sunny, with a high near 60. Calm wind becoming...  \n",
       "5               Partly cloudy, with a low around 48.  \n",
       "6  Rain likely, mainly after 4pm.  Mostly cloudy,...  "
      ]
     },
     "execution_count": 14,
     "metadata": {},
     "output_type": "execute_result"
    }
   ],
   "source": [
    "report"
   ]
  },
  {
   "cell_type": "code",
   "execution_count": null,
   "metadata": {},
   "outputs": [],
   "source": []
  },
  {
   "cell_type": "code",
   "execution_count": null,
   "metadata": {},
   "outputs": [],
   "source": []
  },
  {
   "cell_type": "code",
   "execution_count": null,
   "metadata": {},
   "outputs": [],
   "source": []
  },
  {
   "cell_type": "code",
   "execution_count": null,
   "metadata": {},
   "outputs": [],
   "source": []
  },
  {
   "cell_type": "code",
   "execution_count": null,
   "metadata": {},
   "outputs": [],
   "source": []
  }
 ],
 "metadata": {
  "kernelspec": {
   "display_name": "Python 3",
   "language": "python",
   "name": "python3"
  },
  "language_info": {
   "codemirror_mode": {
    "name": "ipython",
    "version": 3
   },
   "file_extension": ".py",
   "mimetype": "text/x-python",
   "name": "python",
   "nbconvert_exporter": "python",
   "pygments_lexer": "ipython3",
   "version": "3.8.5"
  }
 },
 "nbformat": 4,
 "nbformat_minor": 4
}
