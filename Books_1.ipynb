{
 "cells": [
  {
   "cell_type": "code",
   "execution_count": 55,
   "metadata": {},
   "outputs": [],
   "source": [
    "from bs4 import BeautifulSoup\n",
    "import requests"
   ]
  },
  {
   "cell_type": "code",
   "execution_count": 56,
   "metadata": {},
   "outputs": [],
   "source": [
    "Book_name=[]\n",
    "Author_name=[]\n",
    "genre=[]\n",
    "book_review=[]"
   ]
  },
  {
   "cell_type": "code",
   "execution_count": 57,
   "metadata": {},
   "outputs": [],
   "source": [
    "def page(url):\n",
    "    r = requests.get(url)\n",
    "    soup=BeautifulSoup(r.content,'html.parser')\n",
    "    bname=soup.find_all('h4',class_='italic')\n",
    "    bname=bname[:5]\n",
    "    for i in bname:\n",
    "        Book_name.append(i.get_text().replace(\"\\n\",\"\"))\n",
    "    aname=soup.find_all('p',class_='sans bold')\n",
    "    aname=aname[:5]\n",
    "    for i in aname:\n",
    "        Author_name.append(i.get_text().replace(\"\\n\",\"\"))\n",
    "    genre_=soup.find_all('p',class_='genre-links hidden-phone')\n",
    "    genre_=genre_[:5]\n",
    "    for i in genre_:\n",
    "        genre.append(i.get_text().replace(\"\\n\",\"\"))\n",
    "    bookreview=soup.find_all('p',class_='excerpt')\n",
    "    bookreview=bookreview[:5]\n",
    "    for i in bookreview:\n",
    "        book_review.append(i.get_text().replace(\"\\n\",\"\"))\n",
    "    "
   ]
  },
  {
   "cell_type": "code",
   "execution_count": 58,
   "metadata": {},
   "outputs": [],
   "source": [
    "page('https://bookpage.com/reviews')"
   ]
  },
  {
   "cell_type": "code",
   "execution_count": 59,
   "metadata": {},
   "outputs": [
    {
     "name": "stdout",
     "output_type": "stream",
     "text": [
      "5 5 5 5\n"
     ]
    }
   ],
   "source": [
    "print(len(Book_name),len(Author_name),len(genre),len(book_review))"
   ]
  },
  {
   "cell_type": "code",
   "execution_count": 60,
   "metadata": {},
   "outputs": [],
   "source": [
    "import pandas as pd\n",
    "books=pd.DataFrame({})\n",
    "books['Book_name']=Book_name\n",
    "books['Author_name']=Author_name\n",
    "books['Genre']=genre\n",
    "books['Book_review']=book_review"
   ]
  },
  {
   "cell_type": "code",
   "execution_count": 61,
   "metadata": {},
   "outputs": [
    {
     "data": {
      "text/html": [
       "<div>\n",
       "<style scoped>\n",
       "    .dataframe tbody tr th:only-of-type {\n",
       "        vertical-align: middle;\n",
       "    }\n",
       "\n",
       "    .dataframe tbody tr th {\n",
       "        vertical-align: top;\n",
       "    }\n",
       "\n",
       "    .dataframe thead th {\n",
       "        text-align: right;\n",
       "    }\n",
       "</style>\n",
       "<table border=\"1\" class=\"dataframe\">\n",
       "  <thead>\n",
       "    <tr style=\"text-align: right;\">\n",
       "      <th></th>\n",
       "      <th>Book_name</th>\n",
       "      <th>Author_name</th>\n",
       "      <th>Genre</th>\n",
       "      <th>Book_review</th>\n",
       "    </tr>\n",
       "  </thead>\n",
       "  <tbody>\n",
       "    <tr>\n",
       "      <th>0</th>\n",
       "      <td>Ancestor Approved</td>\n",
       "      <td>Cynthia Leitich Smith</td>\n",
       "      <td>Children's / Middle Grade</td>\n",
       "      <td>Ancestor Approved is a lively anthology of int...</td>\n",
       "    </tr>\n",
       "    <tr>\n",
       "      <th>1</th>\n",
       "      <td>★ The Midnight Fair</td>\n",
       "      <td>Gideon Sterer, Mariachiara Di Giorgio</td>\n",
       "      <td>Children's / Children's Picture Book</td>\n",
       "      <td>While some books light paths with their words,...</td>\n",
       "    </tr>\n",
       "    <tr>\n",
       "      <th>2</th>\n",
       "      <td>★ City of the Uncommon Thief</td>\n",
       "      <td>Lynne Bertrand</td>\n",
       "      <td>YA / YA Fiction</td>\n",
       "      <td>When you see “Relevant Maps” listed as the fir...</td>\n",
       "    </tr>\n",
       "    <tr>\n",
       "      <th>3</th>\n",
       "      <td>How the One-Armed Sister Sweeps Her House</td>\n",
       "      <td>Cherie Jones</td>\n",
       "      <td>Fiction / Literary Fiction</td>\n",
       "      <td>In her engrossing and darkly lyrical debut nov...</td>\n",
       "    </tr>\n",
       "    <tr>\n",
       "      <th>4</th>\n",
       "      <td>Super Host</td>\n",
       "      <td>Kate Russo</td>\n",
       "      <td>Fiction / Family Drama</td>\n",
       "      <td>In Super Host, the first novel from Kate Russo...</td>\n",
       "    </tr>\n",
       "  </tbody>\n",
       "</table>\n",
       "</div>"
      ],
      "text/plain": [
       "                                   Book_name  \\\n",
       "0                          Ancestor Approved   \n",
       "1                        ★ The Midnight Fair   \n",
       "2               ★ City of the Uncommon Thief   \n",
       "3  How the One-Armed Sister Sweeps Her House   \n",
       "4                                 Super Host   \n",
       "\n",
       "                             Author_name  \\\n",
       "0                  Cynthia Leitich Smith   \n",
       "1  Gideon Sterer, Mariachiara Di Giorgio   \n",
       "2                         Lynne Bertrand   \n",
       "3                           Cherie Jones   \n",
       "4                             Kate Russo   \n",
       "\n",
       "                                  Genre  \\\n",
       "0             Children's / Middle Grade   \n",
       "1  Children's / Children's Picture Book   \n",
       "2                       YA / YA Fiction   \n",
       "3            Fiction / Literary Fiction   \n",
       "4                Fiction / Family Drama   \n",
       "\n",
       "                                         Book_review  \n",
       "0  Ancestor Approved is a lively anthology of int...  \n",
       "1  While some books light paths with their words,...  \n",
       "2  When you see “Relevant Maps” listed as the fir...  \n",
       "3  In her engrossing and darkly lyrical debut nov...  \n",
       "4  In Super Host, the first novel from Kate Russo...  "
      ]
     },
     "execution_count": 61,
     "metadata": {},
     "output_type": "execute_result"
    }
   ],
   "source": [
    "books"
   ]
  },
  {
   "cell_type": "code",
   "execution_count": null,
   "metadata": {},
   "outputs": [],
   "source": []
  }
 ],
 "metadata": {
  "kernelspec": {
   "display_name": "Python 3",
   "language": "python",
   "name": "python3"
  },
  "language_info": {
   "codemirror_mode": {
    "name": "ipython",
    "version": 3
   },
   "file_extension": ".py",
   "mimetype": "text/x-python",
   "name": "python",
   "nbconvert_exporter": "python",
   "pygments_lexer": "ipython3",
   "version": "3.8.5"
  }
 },
 "nbformat": 4,
 "nbformat_minor": 4
}
